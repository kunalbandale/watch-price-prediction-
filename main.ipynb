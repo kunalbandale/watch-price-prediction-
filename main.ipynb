{
 "cells": [
  {
   "cell_type": "markdown",
   "id": "164f2399-953b-4be5-9c08-c0518fdd388c",
   "metadata": {},
   "source": [
    "# Exploratory Data Analysis (EDA)\n",
    "\n",
    "Exploratory Data Analysis (EDA) is a critical step in understanding the characteristics of your dataset. It involves analyzing and visualizing the data to gain insights into its structure, relationships, and patterns.\n"
   ]
  },
  {
   "cell_type": "markdown",
   "id": "ba761113-8c6e-4844-9dff-0ba999a5fd97",
   "metadata": {},
   "source": [
    "# Importing Libraries\r\n",
    "\r\n",
    "To perform linear regression, we need to import the following libraries:\r\n",
    "\r\n",
    "- **NumPy**: NumPy is a powerful library for numerical computing in Python. It provides support for arrays, matrices, and mathematical functions.\r\n",
    "- **Pandas**: Pandas is a data manipulation library that provides data structures like DataFrame, which is particularly useful for handling structured data.\r\n",
    "- **Matplotlib**: Matplotlib is a plotting library that allows us to create various types of plots, such as line plots, scatter plots, and histograms.\r\n",
    "- **Seaborn**: Seaborn is a statistical data visualization library based on Matplotlib. It provides a high-level interface for drawing attractive and informative statistical graphics.\r\n",
    "- **Scikit-learn**: Scikit-learn is a machine learning library that provides various tools for data mining and data analysis. It includes support for various machine learning algorithms, including linear regression.\r\n",
    "\r\n",
    "``` python\r\n",
    "import numpy as np\r\n",
    "import pandas as pd\r\n",
    "import matplotlib.pyplot as plt\r\n",
    "import seaborn as sns\r\n",
    "from sklearn.linear_model import LinearRegression\r\n"
   ]
  },
  {
   "cell_type": "code",
   "execution_count": 1,
   "id": "e46f743c-071a-47f5-a875-4a984102a52a",
   "metadata": {},
   "outputs": [],
   "source": [
    "import numpy as np\n",
    "import pandas as pd\n",
    "import matplotlib.pyplot as plt\n",
    "import seaborn as sns\n",
    "from sklearn.linear_model import LinearRegression"
   ]
  },
  {
   "cell_type": "code",
   "execution_count": 2,
   "id": "53056240-79bb-46db-8bf5-8d41af7ea175",
   "metadata": {},
   "outputs": [],
   "source": [
    "data_path = './data/smartwatches.csv'"
   ]
  },
  {
   "cell_type": "code",
   "execution_count": 3,
   "id": "3e7b0553-54f9-4bf4-8e1f-33d8e879a0b9",
   "metadata": {},
   "outputs": [],
   "source": [
    "df = pd.read_csv(data_path)"
   ]
  },
  {
   "cell_type": "code",
   "execution_count": 4,
   "id": "6f0d278e-23b0-449b-939c-090704bc9c4b",
   "metadata": {},
   "outputs": [],
   "source": [
    "df.drop_duplicates(inplace=True)"
   ]
  },
  {
   "cell_type": "code",
   "execution_count": 5,
   "id": "71498445-83ce-4922-a6bb-a509595a1e47",
   "metadata": {},
   "outputs": [
    {
     "data": {
      "text/html": [
       "<div>\n",
       "<style scoped>\n",
       "    .dataframe tbody tr th:only-of-type {\n",
       "        vertical-align: middle;\n",
       "    }\n",
       "\n",
       "    .dataframe tbody tr th {\n",
       "        vertical-align: top;\n",
       "    }\n",
       "\n",
       "    .dataframe thead th {\n",
       "        text-align: right;\n",
       "    }\n",
       "</style>\n",
       "<table border=\"1\" class=\"dataframe\">\n",
       "  <thead>\n",
       "    <tr style=\"text-align: right;\">\n",
       "      <th></th>\n",
       "      <th>Unnamed: 0</th>\n",
       "      <th>Brand</th>\n",
       "      <th>Current Price</th>\n",
       "      <th>Original Price</th>\n",
       "      <th>Discount Percentage</th>\n",
       "      <th>Rating</th>\n",
       "      <th>Number OF Ratings</th>\n",
       "      <th>Model Name</th>\n",
       "      <th>Dial Shape</th>\n",
       "      <th>Strap Color</th>\n",
       "      <th>Strap Material</th>\n",
       "      <th>Touchscreen</th>\n",
       "      <th>Battery Life (Days)</th>\n",
       "      <th>Bluetooth</th>\n",
       "      <th>Display Size</th>\n",
       "      <th>Weight</th>\n",
       "    </tr>\n",
       "  </thead>\n",
       "  <tbody>\n",
       "    <tr>\n",
       "      <th>0</th>\n",
       "      <td>0</td>\n",
       "      <td>noise</td>\n",
       "      <td>82990.0</td>\n",
       "      <td>89900.0</td>\n",
       "      <td>7.686318</td>\n",
       "      <td>4.0</td>\n",
       "      <td>65.0</td>\n",
       "      <td>Wrb-sw-colorfitpro4alpha-std-rgld_pnk</td>\n",
       "      <td>NaN</td>\n",
       "      <td>NaN</td>\n",
       "      <td>NaN</td>\n",
       "      <td>NaN</td>\n",
       "      <td>8.0</td>\n",
       "      <td>Yes</td>\n",
       "      <td>NaN</td>\n",
       "      <td>35 - 50 g</td>\n",
       "    </tr>\n",
       "    <tr>\n",
       "      <th>1</th>\n",
       "      <td>1</td>\n",
       "      <td>fire-boltt</td>\n",
       "      <td>3799.0</td>\n",
       "      <td>16999.0</td>\n",
       "      <td>77.651627</td>\n",
       "      <td>4.3</td>\n",
       "      <td>20788.0</td>\n",
       "      <td>BSW046</td>\n",
       "      <td>NaN</td>\n",
       "      <td>NaN</td>\n",
       "      <td>Silicon</td>\n",
       "      <td>Yes</td>\n",
       "      <td>3.5</td>\n",
       "      <td>Yes</td>\n",
       "      <td>1.8 inches</td>\n",
       "      <td>50 - 75 g</td>\n",
       "    </tr>\n",
       "    <tr>\n",
       "      <th>2</th>\n",
       "      <td>2</td>\n",
       "      <td>boat</td>\n",
       "      <td>1999.0</td>\n",
       "      <td>7990.0</td>\n",
       "      <td>74.981227</td>\n",
       "      <td>3.8</td>\n",
       "      <td>21724.0</td>\n",
       "      <td>Wave Call</td>\n",
       "      <td>NaN</td>\n",
       "      <td>NaN</td>\n",
       "      <td>Silicon</td>\n",
       "      <td>Yes</td>\n",
       "      <td>8.0</td>\n",
       "      <td>Yes</td>\n",
       "      <td>1.7 inches</td>\n",
       "      <td>35 - 50 g</td>\n",
       "    </tr>\n",
       "    <tr>\n",
       "      <th>3</th>\n",
       "      <td>3</td>\n",
       "      <td>fire-boltt</td>\n",
       "      <td>1799.0</td>\n",
       "      <td>19999.0</td>\n",
       "      <td>91.004550</td>\n",
       "      <td>4.3</td>\n",
       "      <td>13244.0</td>\n",
       "      <td>BSW053</td>\n",
       "      <td>NaN</td>\n",
       "      <td>NaN</td>\n",
       "      <td>Silicon</td>\n",
       "      <td>Yes</td>\n",
       "      <td>3.5</td>\n",
       "      <td>Yes</td>\n",
       "      <td>1.8 inches</td>\n",
       "      <td>75g +</td>\n",
       "    </tr>\n",
       "    <tr>\n",
       "      <th>4</th>\n",
       "      <td>4</td>\n",
       "      <td>noise</td>\n",
       "      <td>1599.0</td>\n",
       "      <td>4999.0</td>\n",
       "      <td>68.013603</td>\n",
       "      <td>4.1</td>\n",
       "      <td>13901.0</td>\n",
       "      <td>Wrb-sw-colorfitpulsegobuzz-std-blk_blk</td>\n",
       "      <td>NaN</td>\n",
       "      <td>NaN</td>\n",
       "      <td>Other</td>\n",
       "      <td>Yes</td>\n",
       "      <td>8.0</td>\n",
       "      <td>Yes</td>\n",
       "      <td>1.7 inches</td>\n",
       "      <td>35 - 50 g</td>\n",
       "    </tr>\n",
       "  </tbody>\n",
       "</table>\n",
       "</div>"
      ],
      "text/plain": [
       "   Unnamed: 0       Brand  Current Price  Original Price  Discount Percentage  \\\n",
       "0           0       noise        82990.0         89900.0             7.686318   \n",
       "1           1  fire-boltt         3799.0         16999.0            77.651627   \n",
       "2           2        boat         1999.0          7990.0            74.981227   \n",
       "3           3  fire-boltt         1799.0         19999.0            91.004550   \n",
       "4           4       noise         1599.0          4999.0            68.013603   \n",
       "\n",
       "   Rating  Number OF Ratings                              Model Name  \\\n",
       "0     4.0               65.0   Wrb-sw-colorfitpro4alpha-std-rgld_pnk   \n",
       "1     4.3            20788.0                                  BSW046   \n",
       "2     3.8            21724.0                               Wave Call   \n",
       "3     4.3            13244.0                                  BSW053   \n",
       "4     4.1            13901.0  Wrb-sw-colorfitpulsegobuzz-std-blk_blk   \n",
       "\n",
       "  Dial Shape Strap Color Strap Material Touchscreen  Battery Life (Days)  \\\n",
       "0        NaN         NaN            NaN         NaN                  8.0   \n",
       "1        NaN         NaN        Silicon         Yes                  3.5   \n",
       "2        NaN         NaN        Silicon         Yes                  8.0   \n",
       "3        NaN         NaN        Silicon         Yes                  3.5   \n",
       "4        NaN         NaN          Other         Yes                  8.0   \n",
       "\n",
       "  Bluetooth Display Size     Weight  \n",
       "0       Yes          NaN  35 - 50 g  \n",
       "1       Yes   1.8 inches  50 - 75 g  \n",
       "2       Yes   1.7 inches  35 - 50 g  \n",
       "3       Yes   1.8 inches      75g +  \n",
       "4       Yes   1.7 inches  35 - 50 g  "
      ]
     },
     "execution_count": 5,
     "metadata": {},
     "output_type": "execute_result"
    }
   ],
   "source": [
    "df.head()"
   ]
  },
  {
   "cell_type": "code",
   "execution_count": 6,
   "id": "7da54245-d888-4b70-8bee-718d37587d51",
   "metadata": {},
   "outputs": [
    {
     "data": {
      "text/plain": [
       "(450, 16)"
      ]
     },
     "execution_count": 6,
     "metadata": {},
     "output_type": "execute_result"
    }
   ],
   "source": [
    "df.shape"
   ]
  },
  {
   "cell_type": "markdown",
   "id": "a16c4c03-304f-4626-8ff2-f89754ce681b",
   "metadata": {},
   "source": [
    "# Splitting Data into Training and Testing Sets\n",
    "\n",
    "Before building our linear regression model, it's essential to split our dataset into training and testing sets. This allows us to train the model on one portion of the data and evaluate its performance on another unseen portion. The common practice is to use a larger portion of the data for training and a smaller portion for testing.\n",
    "\n",
    "We can use the `train_test_split` function from the Scikit-learn library to accomplish this. This function randomly splits the dataset into training and testing sets based on a specified ratio.\n",
    "\n",
    "``` python\n",
    "from sklearn.model_selection import train_test_split\n",
    "\n",
    "# Splitting the dataset into features (X) and target variable (y)\n",
    "\n",
    "# Splitting the data into 80% training and 20% testing\n",
    "- Train Data(360, 16) \n",
    "- Test Data (90, 16)\n"
   ]
  },
  {
   "cell_type": "code",
   "execution_count": 7,
   "id": "6dbdb204-a439-4e49-9bda-fc841e861966",
   "metadata": {},
   "outputs": [],
   "source": [
    "train_df = df.sample(frac=0.8, random_state=42)\n",
    "# train_df = df.sample(frac=0.8, random_state=42)\n",
    "# test_df = df.drop(train_df.index)"
   ]
  },
  {
   "cell_type": "code",
   "execution_count": 8,
   "id": "88999141-b2c8-4554-8c20-f2042b273e15",
   "metadata": {},
   "outputs": [],
   "source": [
    "train_df = train_df.reset_index()"
   ]
  },
  {
   "cell_type": "code",
   "execution_count": null,
   "id": "0aa06d0e-d13a-4283-96c5-b2c3977914d8",
   "metadata": {},
   "outputs": [],
   "source": []
  },
  {
   "cell_type": "code",
   "execution_count": null,
   "id": "e2847f6b-4bac-4b85-bf87-e69b2fc0b188",
   "metadata": {},
   "outputs": [],
   "source": []
  },
  {
   "cell_type": "code",
   "execution_count": 9,
   "id": "06932f45-a884-41ec-93dc-625f52bdaa96",
   "metadata": {},
   "outputs": [],
   "source": [
    "test_df = df.drop (train_df.index)"
   ]
  },
  {
   "cell_type": "code",
   "execution_count": 10,
   "id": "a4776c25-cdfc-49ea-ae51-b921c3ce3176",
   "metadata": {},
   "outputs": [],
   "source": [
    "# train_df = test_df.reset_index()"
   ]
  },
  {
   "cell_type": "code",
   "execution_count": 11,
   "id": "51ebbfa0-9286-41ed-aa05-378e124bcaea",
   "metadata": {},
   "outputs": [
    {
     "name": "stdout",
     "output_type": "stream",
     "text": [
      "(360, 17) (90, 16)\n"
     ]
    }
   ],
   "source": [
    "print(train_df.shape , test_df.shape)"
   ]
  },
  {
   "cell_type": "code",
   "execution_count": 12,
   "id": "87167bf3-dfd6-47ac-956d-7e53ee9b529e",
   "metadata": {},
   "outputs": [
    {
     "data": {
      "text/html": [
       "<div>\n",
       "<style scoped>\n",
       "    .dataframe tbody tr th:only-of-type {\n",
       "        vertical-align: middle;\n",
       "    }\n",
       "\n",
       "    .dataframe tbody tr th {\n",
       "        vertical-align: top;\n",
       "    }\n",
       "\n",
       "    .dataframe thead th {\n",
       "        text-align: right;\n",
       "    }\n",
       "</style>\n",
       "<table border=\"1\" class=\"dataframe\">\n",
       "  <thead>\n",
       "    <tr style=\"text-align: right;\">\n",
       "      <th></th>\n",
       "      <th>index</th>\n",
       "      <th>Unnamed: 0</th>\n",
       "      <th>Brand</th>\n",
       "      <th>Current Price</th>\n",
       "      <th>Original Price</th>\n",
       "      <th>Discount Percentage</th>\n",
       "      <th>Rating</th>\n",
       "      <th>Number OF Ratings</th>\n",
       "      <th>Model Name</th>\n",
       "      <th>Dial Shape</th>\n",
       "      <th>Strap Color</th>\n",
       "      <th>Strap Material</th>\n",
       "      <th>Touchscreen</th>\n",
       "      <th>Battery Life (Days)</th>\n",
       "      <th>Bluetooth</th>\n",
       "      <th>Display Size</th>\n",
       "      <th>Weight</th>\n",
       "    </tr>\n",
       "  </thead>\n",
       "  <tbody>\n",
       "    <tr>\n",
       "      <th>355</th>\n",
       "      <td>216</td>\n",
       "      <td>216</td>\n",
       "      <td>fitbit</td>\n",
       "      <td>11699.0</td>\n",
       "      <td>14999.0</td>\n",
       "      <td>22.001467</td>\n",
       "      <td>4.3</td>\n",
       "      <td>3999.0</td>\n",
       "      <td>Versa 2</td>\n",
       "      <td>Square</td>\n",
       "      <td>Black</td>\n",
       "      <td>Silicon</td>\n",
       "      <td>Yes</td>\n",
       "      <td>3.5</td>\n",
       "      <td>Yes</td>\n",
       "      <td>1.3 inches</td>\n",
       "      <td>20 - 35 g</td>\n",
       "    </tr>\n",
       "    <tr>\n",
       "      <th>356</th>\n",
       "      <td>279</td>\n",
       "      <td>279</td>\n",
       "      <td>garmin</td>\n",
       "      <td>39490.0</td>\n",
       "      <td>44990.0</td>\n",
       "      <td>12.224939</td>\n",
       "      <td>4.7</td>\n",
       "      <td>109.0</td>\n",
       "      <td>Instinct 2, Rugged Outdoor Watch with GPS, Bui...</td>\n",
       "      <td>Circle</td>\n",
       "      <td>Grey</td>\n",
       "      <td>Silicon</td>\n",
       "      <td>No</td>\n",
       "      <td>17.5</td>\n",
       "      <td>Yes</td>\n",
       "      <td>0.9 inches</td>\n",
       "      <td>NaN</td>\n",
       "    </tr>\n",
       "    <tr>\n",
       "      <th>357</th>\n",
       "      <td>390</td>\n",
       "      <td>390</td>\n",
       "      <td>zebronics</td>\n",
       "      <td>2199.0</td>\n",
       "      <td>4999.0</td>\n",
       "      <td>56.011202</td>\n",
       "      <td>3.9</td>\n",
       "      <td>272.0</td>\n",
       "      <td>Zeb-Fit Me</td>\n",
       "      <td>Square</td>\n",
       "      <td>Green</td>\n",
       "      <td>Thermo Plastic Polyurethene</td>\n",
       "      <td>Yes</td>\n",
       "      <td>22.0</td>\n",
       "      <td>Yes</td>\n",
       "      <td>3.3 inches</td>\n",
       "      <td>20 - 35 g</td>\n",
       "    </tr>\n",
       "    <tr>\n",
       "      <th>358</th>\n",
       "      <td>337</td>\n",
       "      <td>337</td>\n",
       "      <td>gizmore</td>\n",
       "      <td>1199.0</td>\n",
       "      <td>4499.0</td>\n",
       "      <td>73.349633</td>\n",
       "      <td>4.7</td>\n",
       "      <td>NaN</td>\n",
       "      <td>GizFit CLOUD 1.85 IPS Large Display | AI Voice...</td>\n",
       "      <td>Square</td>\n",
       "      <td>Blue</td>\n",
       "      <td>Silicon</td>\n",
       "      <td>Yes</td>\n",
       "      <td>22.0</td>\n",
       "      <td>Yes</td>\n",
       "      <td>1.8 inches</td>\n",
       "      <td>20 - 35 g</td>\n",
       "    </tr>\n",
       "    <tr>\n",
       "      <th>359</th>\n",
       "      <td>236</td>\n",
       "      <td>236</td>\n",
       "      <td>fitbit</td>\n",
       "      <td>20499.0</td>\n",
       "      <td>NaN</td>\n",
       "      <td>NaN</td>\n",
       "      <td>4.7</td>\n",
       "      <td>NaN</td>\n",
       "      <td>Fitbit Versa 4 Fitness Watch (Waterfall Blue /...</td>\n",
       "      <td>Curved</td>\n",
       "      <td>Blue</td>\n",
       "      <td>Rubber</td>\n",
       "      <td>Yes</td>\n",
       "      <td>22.0</td>\n",
       "      <td>Yes</td>\n",
       "      <td>0.2 inches</td>\n",
       "      <td>NaN</td>\n",
       "    </tr>\n",
       "  </tbody>\n",
       "</table>\n",
       "</div>"
      ],
      "text/plain": [
       "     index  Unnamed: 0      Brand  Current Price  Original Price  \\\n",
       "355    216         216     fitbit        11699.0         14999.0   \n",
       "356    279         279     garmin        39490.0         44990.0   \n",
       "357    390         390  zebronics         2199.0          4999.0   \n",
       "358    337         337    gizmore         1199.0          4499.0   \n",
       "359    236         236     fitbit        20499.0             NaN   \n",
       "\n",
       "     Discount Percentage  Rating  Number OF Ratings  \\\n",
       "355            22.001467     4.3             3999.0   \n",
       "356            12.224939     4.7              109.0   \n",
       "357            56.011202     3.9              272.0   \n",
       "358            73.349633     4.7                NaN   \n",
       "359                  NaN     4.7                NaN   \n",
       "\n",
       "                                            Model Name Dial Shape Strap Color  \\\n",
       "355                                            Versa 2     Square       Black   \n",
       "356  Instinct 2, Rugged Outdoor Watch with GPS, Bui...     Circle        Grey   \n",
       "357                                         Zeb-Fit Me     Square       Green   \n",
       "358  GizFit CLOUD 1.85 IPS Large Display | AI Voice...     Square        Blue   \n",
       "359  Fitbit Versa 4 Fitness Watch (Waterfall Blue /...     Curved        Blue   \n",
       "\n",
       "                  Strap Material Touchscreen  Battery Life (Days) Bluetooth  \\\n",
       "355                      Silicon         Yes                  3.5       Yes   \n",
       "356                      Silicon          No                 17.5       Yes   \n",
       "357  Thermo Plastic Polyurethene         Yes                 22.0       Yes   \n",
       "358                      Silicon         Yes                 22.0       Yes   \n",
       "359                       Rubber         Yes                 22.0       Yes   \n",
       "\n",
       "    Display Size     Weight  \n",
       "355   1.3 inches  20 - 35 g  \n",
       "356   0.9 inches        NaN  \n",
       "357   3.3 inches  20 - 35 g  \n",
       "358   1.8 inches  20 - 35 g  \n",
       "359   0.2 inches        NaN  "
      ]
     },
     "execution_count": 12,
     "metadata": {},
     "output_type": "execute_result"
    }
   ],
   "source": [
    "train_df.tail()"
   ]
  },
  {
   "cell_type": "code",
   "execution_count": 13,
   "id": "653cbeb1-df8a-4a26-8bf1-92e0ce1952e1",
   "metadata": {},
   "outputs": [
    {
     "data": {
      "text/plain": [
       "index                    int64\n",
       "Unnamed: 0               int64\n",
       "Brand                   object\n",
       "Current Price          float64\n",
       "Original Price         float64\n",
       "Discount Percentage    float64\n",
       "Rating                 float64\n",
       "Number OF Ratings      float64\n",
       "Model Name              object\n",
       "Dial Shape              object\n",
       "Strap Color             object\n",
       "Strap Material          object\n",
       "Touchscreen             object\n",
       "Battery Life (Days)    float64\n",
       "Bluetooth               object\n",
       "Display Size            object\n",
       "Weight                  object\n",
       "dtype: object"
      ]
     },
     "execution_count": 13,
     "metadata": {},
     "output_type": "execute_result"
    }
   ],
   "source": [
    "train_df.dtypes"
   ]
  },
  {
   "cell_type": "code",
   "execution_count": 14,
   "id": "1de82112-ad35-4ada-9e92-690b6c8d3f8d",
   "metadata": {},
   "outputs": [
    {
     "data": {
      "text/plain": [
       "index                    0\n",
       "Unnamed: 0               0\n",
       "Brand                    0\n",
       "Current Price            6\n",
       "Original Price          56\n",
       "Discount Percentage     56\n",
       "Rating                   4\n",
       "Number OF Ratings       45\n",
       "Model Name              30\n",
       "Dial Shape             100\n",
       "Strap Color            100\n",
       "Strap Material          56\n",
       "Touchscreen             31\n",
       "Battery Life (Days)     30\n",
       "Bluetooth                5\n",
       "Display Size            27\n",
       "Weight                 149\n",
       "dtype: int64"
      ]
     },
     "execution_count": 14,
     "metadata": {},
     "output_type": "execute_result"
    }
   ],
   "source": [
    "train_df.isna().sum()"
   ]
  },
  {
   "cell_type": "code",
   "execution_count": 15,
   "id": "c8d71ffd-b804-4f06-9d78-ce7ad8241904",
   "metadata": {},
   "outputs": [
    {
     "name": "stdout",
     "output_type": "stream",
     "text": [
      "<class 'pandas.core.frame.DataFrame'>\n",
      "RangeIndex: 360 entries, 0 to 359\n",
      "Data columns (total 17 columns):\n",
      " #   Column               Non-Null Count  Dtype  \n",
      "---  ------               --------------  -----  \n",
      " 0   index                360 non-null    int64  \n",
      " 1   Unnamed: 0           360 non-null    int64  \n",
      " 2   Brand                360 non-null    object \n",
      " 3   Current Price        354 non-null    float64\n",
      " 4   Original Price       304 non-null    float64\n",
      " 5   Discount Percentage  304 non-null    float64\n",
      " 6   Rating               356 non-null    float64\n",
      " 7   Number OF Ratings    315 non-null    float64\n",
      " 8   Model Name           330 non-null    object \n",
      " 9   Dial Shape           260 non-null    object \n",
      " 10  Strap Color          260 non-null    object \n",
      " 11  Strap Material       304 non-null    object \n",
      " 12  Touchscreen          329 non-null    object \n",
      " 13  Battery Life (Days)  330 non-null    float64\n",
      " 14  Bluetooth            355 non-null    object \n",
      " 15  Display Size         333 non-null    object \n",
      " 16  Weight               211 non-null    object \n",
      "dtypes: float64(6), int64(2), object(9)\n",
      "memory usage: 47.9+ KB\n"
     ]
    }
   ],
   "source": [
    "train_df.info()"
   ]
  },
  {
   "cell_type": "markdown",
   "id": "e992664a-8bff-4911-b26c-76c916326c45",
   "metadata": {},
   "source": [
    "# Identifying Numerical and Categorical Data\n",
    "\n",
    "Before proceeding with linear regression, it's crucial to understand the types of features in our dataset. Features can be broadly categorized into numerical (continuous) and categorical (discrete) data.\n",
    "\n",
    "**Numerical Data**: Numerical features represent continuous data that can take on any value within a range. These features are typically quantitative and can be measured on a continuous scale. Examples include age, height, weight, and income.\n",
    "\n",
    "['index',\r\n",
    " 'Unnamed: 0',\r\n",
    " 'Current Price',\r\n",
    " 'Original Price',\r\n",
    " 'Discount Percentage',\r\n",
    " 'Rating',\r\n",
    " 'Number OF Ratings',\r\n",
    " 'Battery Life (Days)']\n",
    "\n",
    "**Categorical Data**: Categorical features represent discrete data that fall into specific categories or groups. These features are typically qualitative and can take on a limited number of distinct values. Examples include gender, marital status, and occu\n",
    "\n",
    "['Brand',\r\n",
    " 'Model Name',\r\n",
    " 'Dial Shape',\r\n",
    " 'Strap Color',\r\n",
    " 'Strap Material',\r\n",
    " 'Touchscreen',\r\n",
    " 'Bluetooth',\r\n",
    " 'Display Size',\r\n",
    " 'Weight']pation.\n",
    "\n",
    "We can use the Pandas library to identify numerical and categorical features in our dataset.\n",
    "\n"
   ]
  },
  {
   "cell_type": "code",
   "execution_count": 16,
   "id": "7163b656-f5ff-4ada-921e-661f753e212a",
   "metadata": {},
   "outputs": [],
   "source": [
    "numerical_data = [feature for feature in train_df.columns if train_df [feature].dtype != 'object']"
   ]
  },
  {
   "cell_type": "code",
   "execution_count": 17,
   "id": "b6ec73cd-8187-4c59-8e4c-fa354101e4f0",
   "metadata": {},
   "outputs": [],
   "source": [
    "continous_data = [feature for feature in train_df.columns if train_df [feature].dtype == 'object']"
   ]
  },
  {
   "cell_type": "code",
   "execution_count": 18,
   "id": "0867ddfa-1600-4d51-8594-d9bdf67a31c7",
   "metadata": {},
   "outputs": [
    {
     "data": {
      "text/plain": [
       "['index',\n",
       " 'Unnamed: 0',\n",
       " 'Current Price',\n",
       " 'Original Price',\n",
       " 'Discount Percentage',\n",
       " 'Rating',\n",
       " 'Number OF Ratings',\n",
       " 'Battery Life (Days)']"
      ]
     },
     "execution_count": 18,
     "metadata": {},
     "output_type": "execute_result"
    }
   ],
   "source": [
    "numerical_data"
   ]
  },
  {
   "cell_type": "code",
   "execution_count": 19,
   "id": "5bf983be-7ad3-4534-9590-2e71941800e2",
   "metadata": {},
   "outputs": [
    {
     "data": {
      "text/plain": [
       "['Brand',\n",
       " 'Model Name',\n",
       " 'Dial Shape',\n",
       " 'Strap Color',\n",
       " 'Strap Material',\n",
       " 'Touchscreen',\n",
       " 'Bluetooth',\n",
       " 'Display Size',\n",
       " 'Weight']"
      ]
     },
     "execution_count": 19,
     "metadata": {},
     "output_type": "execute_result"
    }
   ],
   "source": [
    "continous_data\n"
   ]
  },
  {
   "cell_type": "code",
   "execution_count": 20,
   "id": "8c0e33c2-34a4-4afa-a9fd-d7fcd5cad3c6",
   "metadata": {},
   "outputs": [
    {
     "data": {
      "text/html": [
       "<div>\n",
       "<style scoped>\n",
       "    .dataframe tbody tr th:only-of-type {\n",
       "        vertical-align: middle;\n",
       "    }\n",
       "\n",
       "    .dataframe tbody tr th {\n",
       "        vertical-align: top;\n",
       "    }\n",
       "\n",
       "    .dataframe thead th {\n",
       "        text-align: right;\n",
       "    }\n",
       "</style>\n",
       "<table border=\"1\" class=\"dataframe\">\n",
       "  <thead>\n",
       "    <tr style=\"text-align: right;\">\n",
       "      <th></th>\n",
       "      <th>index</th>\n",
       "      <th>Unnamed: 0</th>\n",
       "      <th>Current Price</th>\n",
       "      <th>Original Price</th>\n",
       "      <th>Discount Percentage</th>\n",
       "      <th>Rating</th>\n",
       "      <th>Number OF Ratings</th>\n",
       "      <th>Battery Life (Days)</th>\n",
       "    </tr>\n",
       "  </thead>\n",
       "  <tbody>\n",
       "    <tr>\n",
       "      <th>count</th>\n",
       "      <td>360.000000</td>\n",
       "      <td>360.000000</td>\n",
       "      <td>354.000000</td>\n",
       "      <td>304.000000</td>\n",
       "      <td>304.000000</td>\n",
       "      <td>356.000000</td>\n",
       "      <td>315.000000</td>\n",
       "      <td>330.000000</td>\n",
       "    </tr>\n",
       "    <tr>\n",
       "      <th>mean</th>\n",
       "      <td>222.702778</td>\n",
       "      <td>222.702778</td>\n",
       "      <td>12514.378531</td>\n",
       "      <td>14415.835526</td>\n",
       "      <td>47.955347</td>\n",
       "      <td>4.027528</td>\n",
       "      <td>10671.815873</td>\n",
       "      <td>14.181970</td>\n",
       "    </tr>\n",
       "    <tr>\n",
       "      <th>std</th>\n",
       "      <td>130.632905</td>\n",
       "      <td>130.632905</td>\n",
       "      <td>16914.978666</td>\n",
       "      <td>15613.457236</td>\n",
       "      <td>24.696899</td>\n",
       "      <td>0.556828</td>\n",
       "      <td>27575.956948</td>\n",
       "      <td>7.661878</td>\n",
       "    </tr>\n",
       "    <tr>\n",
       "      <th>min</th>\n",
       "      <td>0.000000</td>\n",
       "      <td>0.000000</td>\n",
       "      <td>1199.000000</td>\n",
       "      <td>1669.000000</td>\n",
       "      <td>-79.688436</td>\n",
       "      <td>1.000000</td>\n",
       "      <td>1.000000</td>\n",
       "      <td>0.750000</td>\n",
       "    </tr>\n",
       "    <tr>\n",
       "      <th>25%</th>\n",
       "      <td>111.750000</td>\n",
       "      <td>111.750000</td>\n",
       "      <td>2126.000000</td>\n",
       "      <td>5999.000000</td>\n",
       "      <td>33.177427</td>\n",
       "      <td>3.900000</td>\n",
       "      <td>55.000000</td>\n",
       "      <td>8.000000</td>\n",
       "    </tr>\n",
       "    <tr>\n",
       "      <th>50%</th>\n",
       "      <td>222.500000</td>\n",
       "      <td>222.500000</td>\n",
       "      <td>3999.000000</td>\n",
       "      <td>7994.500000</td>\n",
       "      <td>53.068408</td>\n",
       "      <td>4.100000</td>\n",
       "      <td>830.000000</td>\n",
       "      <td>17.500000</td>\n",
       "    </tr>\n",
       "    <tr>\n",
       "      <th>75%</th>\n",
       "      <td>336.250000</td>\n",
       "      <td>336.250000</td>\n",
       "      <td>17367.250000</td>\n",
       "      <td>17996.000000</td>\n",
       "      <td>66.677780</td>\n",
       "      <td>4.300000</td>\n",
       "      <td>7576.500000</td>\n",
       "      <td>22.000000</td>\n",
       "    </tr>\n",
       "    <tr>\n",
       "      <th>max</th>\n",
       "      <td>448.000000</td>\n",
       "      <td>448.000000</td>\n",
       "      <td>98990.000000</td>\n",
       "      <td>96390.000000</td>\n",
       "      <td>91.004550</td>\n",
       "      <td>5.000000</td>\n",
       "      <td>275607.000000</td>\n",
       "      <td>22.000000</td>\n",
       "    </tr>\n",
       "  </tbody>\n",
       "</table>\n",
       "</div>"
      ],
      "text/plain": [
       "            index  Unnamed: 0  Current Price  Original Price  \\\n",
       "count  360.000000  360.000000     354.000000      304.000000   \n",
       "mean   222.702778  222.702778   12514.378531    14415.835526   \n",
       "std    130.632905  130.632905   16914.978666    15613.457236   \n",
       "min      0.000000    0.000000    1199.000000     1669.000000   \n",
       "25%    111.750000  111.750000    2126.000000     5999.000000   \n",
       "50%    222.500000  222.500000    3999.000000     7994.500000   \n",
       "75%    336.250000  336.250000   17367.250000    17996.000000   \n",
       "max    448.000000  448.000000   98990.000000    96390.000000   \n",
       "\n",
       "       Discount Percentage      Rating  Number OF Ratings  Battery Life (Days)  \n",
       "count           304.000000  356.000000         315.000000           330.000000  \n",
       "mean             47.955347    4.027528       10671.815873            14.181970  \n",
       "std              24.696899    0.556828       27575.956948             7.661878  \n",
       "min             -79.688436    1.000000           1.000000             0.750000  \n",
       "25%              33.177427    3.900000          55.000000             8.000000  \n",
       "50%              53.068408    4.100000         830.000000            17.500000  \n",
       "75%              66.677780    4.300000        7576.500000            22.000000  \n",
       "max              91.004550    5.000000      275607.000000            22.000000  "
      ]
     },
     "execution_count": 20,
     "metadata": {},
     "output_type": "execute_result"
    }
   ],
   "source": [
    "train_df[numerical_data].describe()"
   ]
  },
  {
   "cell_type": "code",
   "execution_count": 21,
   "id": "dec122cc-51d0-4373-a586-2db6b345a886",
   "metadata": {},
   "outputs": [
    {
     "data": {
      "text/html": [
       "<div>\n",
       "<style scoped>\n",
       "    .dataframe tbody tr th:only-of-type {\n",
       "        vertical-align: middle;\n",
       "    }\n",
       "\n",
       "    .dataframe tbody tr th {\n",
       "        vertical-align: top;\n",
       "    }\n",
       "\n",
       "    .dataframe thead th {\n",
       "        text-align: right;\n",
       "    }\n",
       "</style>\n",
       "<table border=\"1\" class=\"dataframe\">\n",
       "  <thead>\n",
       "    <tr style=\"text-align: right;\">\n",
       "      <th></th>\n",
       "      <th>index</th>\n",
       "      <th>Unnamed: 0</th>\n",
       "      <th>Current Price</th>\n",
       "      <th>Original Price</th>\n",
       "      <th>Discount Percentage</th>\n",
       "      <th>Rating</th>\n",
       "      <th>Number OF Ratings</th>\n",
       "      <th>Battery Life (Days)</th>\n",
       "    </tr>\n",
       "  </thead>\n",
       "  <tbody>\n",
       "    <tr>\n",
       "      <th>index</th>\n",
       "      <td>1.000000</td>\n",
       "      <td>1.000000</td>\n",
       "      <td>-0.100146</td>\n",
       "      <td>-0.084262</td>\n",
       "      <td>-0.123792</td>\n",
       "      <td>-0.247504</td>\n",
       "      <td>-0.187509</td>\n",
       "      <td>0.371223</td>\n",
       "    </tr>\n",
       "    <tr>\n",
       "      <th>Unnamed: 0</th>\n",
       "      <td>1.000000</td>\n",
       "      <td>1.000000</td>\n",
       "      <td>-0.100146</td>\n",
       "      <td>-0.084262</td>\n",
       "      <td>-0.123792</td>\n",
       "      <td>-0.247504</td>\n",
       "      <td>-0.187509</td>\n",
       "      <td>0.371223</td>\n",
       "    </tr>\n",
       "    <tr>\n",
       "      <th>Current Price</th>\n",
       "      <td>-0.100146</td>\n",
       "      <td>-0.100146</td>\n",
       "      <td>1.000000</td>\n",
       "      <td>0.971497</td>\n",
       "      <td>-0.602668</td>\n",
       "      <td>0.397179</td>\n",
       "      <td>-0.195773</td>\n",
       "      <td>0.030352</td>\n",
       "    </tr>\n",
       "    <tr>\n",
       "      <th>Original Price</th>\n",
       "      <td>-0.084262</td>\n",
       "      <td>-0.084262</td>\n",
       "      <td>0.971497</td>\n",
       "      <td>1.000000</td>\n",
       "      <td>-0.479494</td>\n",
       "      <td>0.325818</td>\n",
       "      <td>-0.180650</td>\n",
       "      <td>-0.132527</td>\n",
       "    </tr>\n",
       "    <tr>\n",
       "      <th>Discount Percentage</th>\n",
       "      <td>-0.123792</td>\n",
       "      <td>-0.123792</td>\n",
       "      <td>-0.602668</td>\n",
       "      <td>-0.479494</td>\n",
       "      <td>1.000000</td>\n",
       "      <td>-0.191073</td>\n",
       "      <td>0.235221</td>\n",
       "      <td>-0.011792</td>\n",
       "    </tr>\n",
       "    <tr>\n",
       "      <th>Rating</th>\n",
       "      <td>-0.247504</td>\n",
       "      <td>-0.247504</td>\n",
       "      <td>0.397179</td>\n",
       "      <td>0.325818</td>\n",
       "      <td>-0.191073</td>\n",
       "      <td>1.000000</td>\n",
       "      <td>0.085250</td>\n",
       "      <td>-0.102289</td>\n",
       "    </tr>\n",
       "    <tr>\n",
       "      <th>Number OF Ratings</th>\n",
       "      <td>-0.187509</td>\n",
       "      <td>-0.187509</td>\n",
       "      <td>-0.195773</td>\n",
       "      <td>-0.180650</td>\n",
       "      <td>0.235221</td>\n",
       "      <td>0.085250</td>\n",
       "      <td>1.000000</td>\n",
       "      <td>0.009617</td>\n",
       "    </tr>\n",
       "    <tr>\n",
       "      <th>Battery Life (Days)</th>\n",
       "      <td>0.371223</td>\n",
       "      <td>0.371223</td>\n",
       "      <td>0.030352</td>\n",
       "      <td>-0.132527</td>\n",
       "      <td>-0.011792</td>\n",
       "      <td>-0.102289</td>\n",
       "      <td>0.009617</td>\n",
       "      <td>1.000000</td>\n",
       "    </tr>\n",
       "  </tbody>\n",
       "</table>\n",
       "</div>"
      ],
      "text/plain": [
       "                        index  Unnamed: 0  Current Price  Original Price  \\\n",
       "index                1.000000    1.000000      -0.100146       -0.084262   \n",
       "Unnamed: 0           1.000000    1.000000      -0.100146       -0.084262   \n",
       "Current Price       -0.100146   -0.100146       1.000000        0.971497   \n",
       "Original Price      -0.084262   -0.084262       0.971497        1.000000   \n",
       "Discount Percentage -0.123792   -0.123792      -0.602668       -0.479494   \n",
       "Rating              -0.247504   -0.247504       0.397179        0.325818   \n",
       "Number OF Ratings   -0.187509   -0.187509      -0.195773       -0.180650   \n",
       "Battery Life (Days)  0.371223    0.371223       0.030352       -0.132527   \n",
       "\n",
       "                     Discount Percentage    Rating  Number OF Ratings  \\\n",
       "index                          -0.123792 -0.247504          -0.187509   \n",
       "Unnamed: 0                     -0.123792 -0.247504          -0.187509   \n",
       "Current Price                  -0.602668  0.397179          -0.195773   \n",
       "Original Price                 -0.479494  0.325818          -0.180650   \n",
       "Discount Percentage             1.000000 -0.191073           0.235221   \n",
       "Rating                         -0.191073  1.000000           0.085250   \n",
       "Number OF Ratings               0.235221  0.085250           1.000000   \n",
       "Battery Life (Days)            -0.011792 -0.102289           0.009617   \n",
       "\n",
       "                     Battery Life (Days)  \n",
       "index                           0.371223  \n",
       "Unnamed: 0                      0.371223  \n",
       "Current Price                   0.030352  \n",
       "Original Price                 -0.132527  \n",
       "Discount Percentage            -0.011792  \n",
       "Rating                         -0.102289  \n",
       "Number OF Ratings               0.009617  \n",
       "Battery Life (Days)             1.000000  "
      ]
     },
     "execution_count": 21,
     "metadata": {},
     "output_type": "execute_result"
    }
   ],
   "source": [
    "#checking corealtion of the data\n",
    "\n",
    "train_df[numerical_data].corr()"
   ]
  },
  {
   "cell_type": "code",
   "execution_count": 22,
   "id": "483d743c-ab3d-4544-b701-23a48f6948a3",
   "metadata": {},
   "outputs": [
    {
     "data": {
      "text/plain": [
       "index                  0.012368\n",
       "Unnamed: 0             0.012368\n",
       "Current Price          2.301689\n",
       "Original Price         2.734265\n",
       "Discount Percentage   -0.983632\n",
       "Rating                -1.589043\n",
       "Number OF Ratings      5.467630\n",
       "Battery Life (Days)   -0.190298\n",
       "dtype: float64"
      ]
     },
     "execution_count": 22,
     "metadata": {},
     "output_type": "execute_result"
    }
   ],
   "source": [
    "#skeness of the data\n",
    "train_df[numerical_data].skew()"
   ]
  },
  {
   "cell_type": "markdown",
   "id": "6f8f9ef2-67d3-4616-9a38-8b42824886a7",
   "metadata": {},
   "source": [
    "# Data Profiling\n",
    "\n",
    "Data profiling is a crucial step in the data analysis process that involves examining and summarizing the characteristics of a dataset. It provides valuable insights into the data distribution, missing values, correlations, and other patterns, helping to understand the underlying structure and quality of the dataset.\n",
    "\n",
    "## Using Pandas Profiling\n",
    "\n",
    "We will utilize the `pandas_profiling` library to generate a comprehensive report on our dataset. This report will include various statistics, visualizations, and insights to facilitate our understanding of the data.\n",
    "\n",
    "```python\n",
    "import pandas_profiling\n",
    "\n",
    "# Perform Pandas Profiling\n",
    "profile = train_df.profile_report()\n",
    "\n",
    "# Save the report to a file\n",
    "profile.to_file(\"data_profile_report.html\")\n"
   ]
  },
  {
   "cell_type": "code",
   "execution_count": 23,
   "id": "0729f8fd-ea82-4ecb-adca-4fddd5913b43",
   "metadata": {},
   "outputs": [
    {
     "name": "stdout",
     "output_type": "stream",
     "text": [
      "Requirement already satisfied: h5py in c:\\users\\banda\\anaconda3\\lib\\site-packages (3.9.0)\n",
      "Requirement already satisfied: numpy>=1.17.3 in c:\\users\\banda\\anaconda3\\lib\\site-packages (from h5py) (1.23.5)\n",
      "Requirement already satisfied: typing-extensions in c:\\users\\banda\\anaconda3\\lib\\site-packages (4.9.0)\n",
      "Requirement already satisfied: wheel in c:\\users\\banda\\anaconda3\\lib\\site-packages (0.41.2)\n"
     ]
    }
   ],
   "source": [
    "!pip install h5py\n",
    "!pip install typing-extensions\n",
    "!pip install wheel"
   ]
  },
  {
   "cell_type": "code",
   "execution_count": null,
   "id": "4ab900d9-5fc6-41a6-9fb9-bc3dbca9aecf",
   "metadata": {},
   "outputs": [
    {
     "name": "stdout",
     "output_type": "stream",
     "text": [
      "Requirement already satisfied: pandas-profiling in c:\\users\\banda\\anaconda3\\lib\\site-packages (3.2.0)\n",
      "Requirement already satisfied: joblib~=1.1.0 in c:\\users\\banda\\anaconda3\\lib\\site-packages (from pandas-profiling) (1.1.1)\n",
      "Requirement already satisfied: scipy>=1.4.1 in c:\\users\\banda\\anaconda3\\lib\\site-packages (from pandas-profiling) (1.9.3)\n",
      "Requirement already satisfied: pandas!=1.0.0,!=1.0.1,!=1.0.2,!=1.1.0,>=0.25.3 in c:\\users\\banda\\anaconda3\\lib\\site-packages (from pandas-profiling) (1.5.3)\n",
      "Requirement already satisfied: matplotlib>=3.2.0 in c:\\users\\banda\\anaconda3\\lib\\site-packages (from pandas-profiling) (3.6.3)\n",
      "Requirement already satisfied: pydantic>=1.8.1 in c:\\users\\banda\\anaconda3\\lib\\site-packages (from pandas-profiling) (1.10.14)\n",
      "Requirement already satisfied: PyYAML>=5.0.0 in c:\\users\\banda\\anaconda3\\lib\\site-packages (from pandas-profiling) (6.0.1)\n",
      "Requirement already satisfied: jinja2>=2.11.1 in c:\\users\\banda\\anaconda3\\lib\\site-packages (from pandas-profiling) (3.1.3)\n",
      "Requirement already satisfied: markupsafe~=2.1.1 in c:\\users\\banda\\anaconda3\\lib\\site-packages (from pandas-profiling) (2.1.3)\n",
      "Requirement already satisfied: visions==0.7.4 in c:\\users\\banda\\anaconda3\\lib\\site-packages (from visions[type_image_path]==0.7.4->pandas-profiling) (0.7.4)\n",
      "Requirement already satisfied: numpy>=1.16.0 in c:\\users\\banda\\anaconda3\\lib\\site-packages (from pandas-profiling) (1.23.5)\n",
      "Requirement already satisfied: htmlmin>=0.1.12 in c:\\users\\banda\\anaconda3\\lib\\site-packages (from pandas-profiling) (0.1.12)\n",
      "Requirement already satisfied: missingno>=0.4.2 in c:\\users\\banda\\anaconda3\\lib\\site-packages (from pandas-profiling) (0.5.2)\n",
      "Requirement already satisfied: phik>=0.11.1 in c:\\users\\banda\\anaconda3\\lib\\site-packages (from pandas-profiling) (0.12.4)\n",
      "Requirement already satisfied: tangled-up-in-unicode==0.2.0 in c:\\users\\banda\\anaconda3\\lib\\site-packages (from pandas-profiling) (0.2.0)\n",
      "Requirement already satisfied: requests>=2.24.0 in c:\\users\\banda\\anaconda3\\lib\\site-packages (from pandas-profiling) (2.31.0)\n",
      "Requirement already satisfied: tqdm>=4.48.2 in c:\\users\\banda\\anaconda3\\lib\\site-packages (from pandas-profiling) (4.64.1)\n",
      "Requirement already satisfied: seaborn>=0.10.1 in c:\\users\\banda\\anaconda3\\lib\\site-packages (from pandas-profiling) (0.12.2)\n",
      "Requirement already satisfied: multimethod>=1.4 in c:\\users\\banda\\anaconda3\\lib\\site-packages (from pandas-profiling) (1.9.1)\n",
      "Requirement already satisfied: attrs>=19.3.0 in c:\\users\\banda\\anaconda3\\lib\\site-packages (from visions==0.7.4->visions[type_image_path]==0.7.4->pandas-profiling) (23.1.0)\n",
      "Requirement already satisfied: networkx>=2.4 in c:\\users\\banda\\anaconda3\\lib\\site-packages (from visions==0.7.4->visions[type_image_path]==0.7.4->pandas-profiling) (3.1)\n",
      "Requirement already satisfied: imagehash in c:\\users\\banda\\anaconda3\\lib\\site-packages (from visions[type_image_path]==0.7.4->pandas-profiling) (4.3.1)\n",
      "Requirement already satisfied: Pillow in c:\\users\\banda\\anaconda3\\lib\\site-packages (from visions[type_image_path]==0.7.4->pandas-profiling) (10.2.0)\n",
      "Requirement already satisfied: contourpy>=1.0.1 in c:\\users\\banda\\anaconda3\\lib\\site-packages (from matplotlib>=3.2.0->pandas-profiling) (1.2.0)\n",
      "Requirement already satisfied: cycler>=0.10 in c:\\users\\banda\\anaconda3\\lib\\site-packages (from matplotlib>=3.2.0->pandas-profiling) (0.11.0)\n",
      "Requirement already satisfied: fonttools>=4.22.0 in c:\\users\\banda\\anaconda3\\lib\\site-packages (from matplotlib>=3.2.0->pandas-profiling) (4.25.0)\n",
      "Requirement already satisfied: kiwisolver>=1.0.1 in c:\\users\\banda\\anaconda3\\lib\\site-packages (from matplotlib>=3.2.0->pandas-profiling) (1.4.4)\n",
      "Requirement already satisfied: packaging>=20.0 in c:\\users\\banda\\appdata\\roaming\\python\\python311\\site-packages (from matplotlib>=3.2.0->pandas-profiling) (24.0)\n",
      "Requirement already satisfied: pyparsing>=2.2.1 in c:\\users\\banda\\anaconda3\\lib\\site-packages (from matplotlib>=3.2.0->pandas-profiling) (3.0.9)\n",
      "Requirement already satisfied: python-dateutil>=2.7 in c:\\users\\banda\\appdata\\roaming\\python\\python311\\site-packages (from matplotlib>=3.2.0->pandas-profiling) (2.9.0.post0)\n",
      "Requirement already satisfied: pytz>=2020.1 in c:\\users\\banda\\anaconda3\\lib\\site-packages (from pandas!=1.0.0,!=1.0.1,!=1.0.2,!=1.1.0,>=0.25.3->pandas-profiling) (2023.3.post1)\n",
      "Requirement already satisfied: typing-extensions>=4.2.0 in c:\\users\\banda\\anaconda3\\lib\\site-packages (from pydantic>=1.8.1->pandas-profiling) (4.9.0)\n",
      "Requirement already satisfied: charset-normalizer<4,>=2 in c:\\users\\banda\\anaconda3\\lib\\site-packages (from requests>=2.24.0->pandas-profiling) (2.0.4)\n",
      "Requirement already satisfied: idna<4,>=2.5 in c:\\users\\banda\\anaconda3\\lib\\site-packages (from requests>=2.24.0->pandas-profiling) (3.4)\n",
      "Requirement already satisfied: urllib3<3,>=1.21.1 in c:\\users\\banda\\anaconda3\\lib\\site-packages (from requests>=2.24.0->pandas-profiling) (1.26.18)\n",
      "Requirement already satisfied: certifi>=2017.4.17 in c:\\users\\banda\\anaconda3\\lib\\site-packages (from requests>=2.24.0->pandas-profiling) (2024.2.2)\n",
      "Requirement already satisfied: colorama in c:\\users\\banda\\appdata\\roaming\\python\\python311\\site-packages (from tqdm>=4.48.2->pandas-profiling) (0.4.6)\n",
      "Requirement already satisfied: six>=1.5 in c:\\users\\banda\\appdata\\roaming\\python\\python311\\site-packages (from python-dateutil>=2.7->matplotlib>=3.2.0->pandas-profiling) (1.16.0)\n",
      "Requirement already satisfied: PyWavelets in c:\\users\\banda\\anaconda3\\lib\\site-packages (from imagehash->visions[type_image_path]==0.7.4->pandas-profiling) (1.5.0)\n"
     ]
    }
   ],
   "source": [
    "!pip install pandas-profiling\n",
    "!pip install ipywidgets"
   ]
  },
  {
   "cell_type": "code",
   "execution_count": null,
   "id": "6379ae42-7857-4369-89af-7a153a1f356e",
   "metadata": {},
   "outputs": [],
   "source": [
    "# import pandas_profiling\n",
    "import ydata_profiling as profile"
   ]
  },
  {
   "cell_type": "code",
   "execution_count": null,
   "id": "b22e9a3b-8567-4222-b18c-5958a2c42db8",
   "metadata": {},
   "outputs": [],
   "source": [
    "profile = train_df.profile_report()\n",
    "# # profile.ProfileReport(train_df)"
   ]
  },
  {
   "cell_type": "code",
   "execution_count": null,
   "id": "f527f971-0949-464f-8804-d1954b4d7cc7",
   "metadata": {},
   "outputs": [],
   "source": [
    "profile.to_file(\"data_profile_report.html\")"
   ]
  },
  {
   "cell_type": "markdown",
   "id": "d256c938-064f-4b14-b3dc-94f5b82019b7",
   "metadata": {},
   "source": [
    "# Data Visualization: Univariate and Multivariate Analysis\n",
    "\n",
    "Data visualization is an essential tool for understanding the distribution and relationships within a dataset. In this section, we'll explore both univariate (analysis of single variables) and multivariate (analysis of relationships between multiple variables) visualization techniques.\n",
    "\n",
    "## Univariate plots\n",
    "- histograms\n",
    "- density Plots\n",
    "- box and whisker plots\n",
    "\n",
    "## Multivariate plots\n",
    "- coorelation matrix plot\n",
    "- scatter plot matrix\n",
    "\n",
    "  \n"
   ]
  },
  {
   "cell_type": "code",
   "execution_count": null,
   "id": "e8a8c3e3-7e4c-4224-b69a-14cd9e1176be",
   "metadata": {},
   "outputs": [],
   "source": [
    "%matplotlib inline\n",
    "import warnings\n",
    "warnings.filterwarnings('ignore')"
   ]
  },
  {
   "cell_type": "code",
   "execution_count": null,
   "id": "5708509a-fed6-4e29-ac75-a873c18828fd",
   "metadata": {},
   "outputs": [],
   "source": [
    "numerical_data.remove('index')"
   ]
  },
  {
   "cell_type": "code",
   "execution_count": null,
   "id": "2f74d13d-cf43-4691-ae18-b8429b3f8afc",
   "metadata": {},
   "outputs": [],
   "source": [
    "numerical_data.remove('Unnamed: 0')"
   ]
  },
  {
   "cell_type": "code",
   "execution_count": null,
   "id": "756f0a2a-562b-4f21-aaeb-3404e2269e55",
   "metadata": {},
   "outputs": [],
   "source": [
    "numerical_data"
   ]
  },
  {
   "cell_type": "code",
   "execution_count": null,
   "id": "0cc7c095-2c3a-4795-a725-acf1f4332b20",
   "metadata": {},
   "outputs": [],
   "source": [
    "fig , axes = plt.subplots(nrows=2 , ncols=3 , figsize=(14,10))\n",
    "\n",
    "for i , coll in enumerate(numerical_data):\n",
    "    row = i // 3\n",
    "    col = i % 3\n",
    "    ax = axes[row , col]\n",
    "    sns.histplot(data=train_df[coll],ax=ax,kde=True)\n",
    "\n",
    "plt.show"
   ]
  },
  {
   "cell_type": "code",
   "execution_count": null,
   "id": "41724887-6e0a-4225-b5bd-d46021a7f5b4",
   "metadata": {},
   "outputs": [],
   "source": [
    "fig , axes = plt.subplots(nrows=2 , ncols=3 , figsize=(14,10))\n",
    "\n",
    "for i , coll in enumerate(numerical_data):\n",
    "    row = i // 3\n",
    "    col = i % 3\n",
    "    ax = axes[row , col]\n",
    "    sns.boxplot(data=train_df[coll],ax=ax)\n",
    "fig.tight_layout()\n",
    "plt.show"
   ]
  },
  {
   "cell_type": "code",
   "execution_count": null,
   "id": "3d57261b-d9e3-415b-8180-b63786e4bc5c",
   "metadata": {},
   "outputs": [],
   "source": [
    "sns.pairplot(train_df)\n",
    "plt.show()"
   ]
  },
  {
   "cell_type": "code",
   "execution_count": null,
   "id": "e86276f7-7ef9-426c-a27c-7a9b10917bf0",
   "metadata": {},
   "outputs": [],
   "source": [
    "sns.heatmap(train_df.corr())\n",
    "plt.show()"
   ]
  },
  {
   "cell_type": "markdown",
   "id": "c4f1bebc-89b6-4b99-b7e8-18cc2718cada",
   "metadata": {},
   "source": [
    "# Feature Engineering\n",
    "\n",
    "Feature engineering is a crucial step in the machine learning pipeline that involves creating new features or transforming existing ones to enhance the performance of predictive models. In this section, we'll explore various techniques for feature engineering.\n",
    "\n",
    "## Handling Missing Values\n",
    "\n",
    "Dealing with missing values is essential as many machine learning algorithms cannot handle them. There are several strategies for handling missing values:\n",
    "\n",
    "- **Imputation**: Replace missing values with a suitable statistic such as mean, median, or mode.\n",
    "- **Deletion**: Remove rows or columns with missing values if they are insignificant or too many.\n",
    "\n",
    "\n"
   ]
  },
  {
   "cell_type": "code",
   "execution_count": null,
   "id": "d563e045-dde6-4d6f-b266-acfd4066023f",
   "metadata": {},
   "outputs": [],
   "source": []
  },
  {
   "cell_type": "code",
   "execution_count": null,
   "id": "d501d6e2-f34b-4ca1-a76b-7efe7e250009",
   "metadata": {},
   "outputs": [],
   "source": [
    "# lib importing\n",
    "import re\n",
    "import pandas as pd\n",
    "import numpy as np\n",
    "import matplotlib.pyplot as plt\n",
    "import seaborn as sns\n",
    "\n",
    "%matplotlib inline"
   ]
  },
  {
   "cell_type": "code",
   "execution_count": null,
   "id": "c8e5fa12-b13e-4f55-8836-8545377a1cee",
   "metadata": {},
   "outputs": [],
   "source": []
  },
  {
   "cell_type": "code",
   "execution_count": null,
   "id": "3e5fc14c-6b4a-4deb-aed6-1ef41c6cfc9a",
   "metadata": {},
   "outputs": [],
   "source": [
    "train_df.head()\n"
   ]
  },
  {
   "cell_type": "code",
   "execution_count": null,
   "id": "17a492a3-bf99-43aa-9d1e-f8677d33d098",
   "metadata": {},
   "outputs": [],
   "source": [
    "df.shape , train_df.shape , test_df.shape"
   ]
  },
  {
   "cell_type": "code",
   "execution_count": null,
   "id": "9329a5a8-ecae-4a57-a95c-016cc5536553",
   "metadata": {},
   "outputs": [],
   "source": [
    "# removing unnamed and index\n",
    "train_df.drop(['df_index' , 'Unnamed: 0'], axis = 1 , inplace=True)"
   ]
  },
  {
   "cell_type": "code",
   "execution_count": null,
   "id": "2bce3d74-0514-4556-8bb3-3d60efe5a84e",
   "metadata": {},
   "outputs": [],
   "source": [
    "#checking null values\n",
    "train_df['Display Size'].isna().sum()"
   ]
  },
  {
   "cell_type": "code",
   "execution_count": null,
   "id": "abe5755d-b470-4f8c-9cb1-1540216f8260",
   "metadata": {},
   "outputs": [],
   "source": [
    "train_df['Display Size'].fillna('0.0 inches' , inplace = True)"
   ]
  },
  {
   "cell_type": "code",
   "execution_count": null,
   "id": "a50dc775-94f8-459b-b4f5-c30ada10a3e3",
   "metadata": {},
   "outputs": [],
   "source": [
    "train_df['Display Size'].isna().sum()"
   ]
  },
  {
   "cell_type": "code",
   "execution_count": null,
   "id": "ec4923a4-f8be-424d-bfc8-2f3fa844b258",
   "metadata": {},
   "outputs": [],
   "source": [
    "train_df['Display Size'].apply(lambda x : float(x.split()[0]))"
   ]
  },
  {
   "cell_type": "code",
   "execution_count": null,
   "id": "9c6887fc-e16f-4fe9-aeb2-8334e170cc4f",
   "metadata": {},
   "outputs": [],
   "source": [
    "# for weight data\n",
    "train_df['Weight'].isna().sum()\n"
   ]
  },
  {
   "cell_type": "code",
   "execution_count": null,
   "id": "0d0a3a3a-e327-4998-96b9-7f923f1ec05a",
   "metadata": {},
   "outputs": [],
   "source": [
    "train_df['Weight'].value_counts()"
   ]
  },
  {
   "cell_type": "code",
   "execution_count": null,
   "id": "09abd778-0431-46bc-b741-b50af750b61c",
   "metadata": {},
   "outputs": [],
   "source": [
    "re.findall('\\d+' , '20 - 35 g ')"
   ]
  },
  {
   "cell_type": "code",
   "execution_count": null,
   "id": "e481793d-67f0-4690-84a5-477f1ca35f65",
   "metadata": {},
   "outputs": [],
   "source": [
    "cal = sum([int(x) for x in re.findall('\\d+' , '20 - 35 g ')]) / 2\n",
    "train_df['Weight'].replace ('20 - 35 g', cal , inplace = True)"
   ]
  },
  {
   "cell_type": "code",
   "execution_count": null,
   "id": "cbd7f243-0b6e-4d7e-9c79-34f780c7f7e8",
   "metadata": {},
   "outputs": [],
   "source": [
    "cal = sum([int(x) for x in re.findall('\\d+' , '35 - 50 g ')]) / 2\n",
    "train_df['Weight'].replace ('35 - 50 g', cal , inplace = True)"
   ]
  },
  {
   "cell_type": "code",
   "execution_count": null,
   "id": "e73d5b1f-8106-419c-b4b4-fe27a17c4fbb",
   "metadata": {},
   "outputs": [],
   "source": [
    "cal = sum([int(x) for x in re.findall('\\d+' , '50 - 75 g ')]) / 2\n",
    "train_df['Weight'].replace ('50 - 75 g', cal , inplace = True)"
   ]
  },
  {
   "cell_type": "code",
   "execution_count": null,
   "id": "e934a8e7-dd7b-4851-bbee-a9f72a49a7f0",
   "metadata": {},
   "outputs": [],
   "source": [
    "train_df['Weight'].replace('75g +' , float(re.findall('\\d+' , '75g')[0]) , inplace = True)"
   ]
  },
  {
   "cell_type": "code",
   "execution_count": null,
   "id": "43b1686f-4fcb-4ccf-81df-cd23861562c8",
   "metadata": {},
   "outputs": [],
   "source": [
    "train_df['Weight'].replace('<= 20 g' , float(re.findall('\\d+' , '<= 20 g')[0]) , inplace = True)"
   ]
  },
  {
   "cell_type": "code",
   "execution_count": null,
   "id": "5f0a7d6e-25aa-4664-967f-465e025dbc30",
   "metadata": {},
   "outputs": [],
   "source": [
    "train_df['Weight'].value_counts()"
   ]
  },
  {
   "cell_type": "code",
   "execution_count": null,
   "id": "23543966-fde9-47ed-8be9-c10721facbfb",
   "metadata": {},
   "outputs": [],
   "source": [
    "train_df.info()"
   ]
  },
  {
   "cell_type": "code",
   "execution_count": null,
   "id": "03101166-91ae-437b-bd2f-acd08b089455",
   "metadata": {},
   "outputs": [],
   "source": [
    "train_df.head()"
   ]
  },
  {
   "cell_type": "code",
   "execution_count": null,
   "id": "d585bc54-74fb-4eb3-9cf6-3c9d0661fb97",
   "metadata": {},
   "outputs": [],
   "source": [
    "train_df['Discount Price'] = (train_df['Original Price'] * (-train_df['Discount Percentage']))/100"
   ]
  },
  {
   "cell_type": "code",
   "execution_count": null,
   "id": "b6638f6e-e0ef-409f-970c-24c6e9de25fd",
   "metadata": {},
   "outputs": [],
   "source": [
    "train_df.drop(['Discount Percentage'], axis = 1 , inplace = True)"
   ]
  },
  {
   "cell_type": "code",
   "execution_count": null,
   "id": "619b8dd8-2b76-4e1c-8b16-3f99ea87285c",
   "metadata": {},
   "outputs": [],
   "source": [
    "train_df.shape"
   ]
  },
  {
   "cell_type": "markdown",
   "id": "f0fb3794-8c9b-4ada-83d2-3dd7c2dd8558",
   "metadata": {},
   "source": [
    "## Numerical Data"
   ]
  },
  {
   "cell_type": "code",
   "execution_count": null,
   "id": "4332f0b4-7947-4881-a09f-d0e8fc251de3",
   "metadata": {},
   "outputs": [],
   "source": [
    "numerical_col = [feature for feature in train_df.columns if train_df[feature].dtype == np.float64]\n"
   ]
  },
  {
   "cell_type": "code",
   "execution_count": null,
   "id": "47bc05d6-7b66-46f2-b228-c8279843ecec",
   "metadata": {},
   "outputs": [],
   "source": [
    "numerical_col"
   ]
  },
  {
   "cell_type": "code",
   "execution_count": null,
   "id": "f33ba386-7a27-44e1-85a0-7536670e6e7e",
   "metadata": {},
   "outputs": [],
   "source": [
    "train_df[numerical_col].head()"
   ]
  },
  {
   "cell_type": "code",
   "execution_count": null,
   "id": "512b2df9-5d62-42b3-8ea9-0252be440e29",
   "metadata": {},
   "outputs": [],
   "source": [
    "fig , axes = plt.subplots(nrows=3 , ncols=3 , figsize=(14,10))\n",
    "\n",
    "for i , coll in enumerate(numerical_col):\n",
    "    row = i // 3\n",
    "    col = i % 3\n",
    "    ax = axes[row , col]\n",
    "    sns.kdeplot(data=train_df[coll],ax=ax , fill=True)\n",
    "fig.tight_layout()\n",
    "plt.show"
   ]
  },
  {
   "cell_type": "code",
   "execution_count": null,
   "id": "728b04ea-9a42-424b-84a0-5cf872e70654",
   "metadata": {},
   "outputs": [],
   "source": [
    "fig , axes = plt.subplots(nrows=3 , ncols=3 , figsize=(14,10))\n",
    "\n",
    "for i , coll in enumerate(numerical_col):\n",
    "    row = i // 3\n",
    "    col = i % 3\n",
    "    ax = axes[row , col]\n",
    "    sns.boxplot(x=train_df[coll],ax=ax )\n",
    "fig.tight_layout()\n",
    "plt.show"
   ]
  },
  {
   "cell_type": "code",
   "execution_count": null,
   "id": "0f260d05-2d49-491a-8096-051b7ed2fdf3",
   "metadata": {},
   "outputs": [],
   "source": [
    "def remove_outliers_IQR(data,col):\n",
    "    Q1 = data[col].quantile(0.25)\n",
    "    Q3 = data[col].quantile(0.75)\n",
    "    IQR = Q3 - Q1\n",
    "    lower_bond = Q1 - 1.5 * IQR\n",
    "    upper_bond = Q3 + 1.5 * IQR\n",
    "    return data[(data[col] > lower_bond) & (data[col] < upper_bond)]"
   ]
  },
  {
   "cell_type": "code",
   "execution_count": null,
   "id": "190539d9-8d29-4f96-aaef-068dba356f1a",
   "metadata": {},
   "outputs": [],
   "source": [
    "train_df.columns"
   ]
  },
  {
   "cell_type": "code",
   "execution_count": null,
   "id": "1edd7a2e-4c73-4445-86c6-dba6f053a109",
   "metadata": {},
   "outputs": [],
   "source": [
    "train_df.shape"
   ]
  },
  {
   "cell_type": "code",
   "execution_count": null,
   "id": "dfb956b1-0ce1-4345-9415-f730a36b33f8",
   "metadata": {},
   "outputs": [],
   "source": [
    "import_col = [ 'Current Price', 'Original Price', 'Rating', 'Number OF Ratings', 'Display Size' ]"
   ]
  },
  {
   "cell_type": "code",
   "execution_count": null,
   "id": "3cdecec3-460d-4ffe-9fdf-9b2223bb1ed4",
   "metadata": {},
   "outputs": [],
   "source": [
    "for col in import_col:\n",
    "    train_df = remove_outliers_IQR(train_df , col)"
   ]
  },
  {
   "cell_type": "code",
   "execution_count": null,
   "id": "d7896fcd-7b35-450e-ae1f-415a6cd13686",
   "metadata": {},
   "outputs": [],
   "source": [
    "for col in numerical_col:\n",
    "    print(col)\n",
    "    train_df[col].fillna(train_df[col].median(), inplace = True)"
   ]
  },
  {
   "cell_type": "code",
   "execution_count": null,
   "id": "304a4f69-b388-4867-8993-a56d2a14f1f6",
   "metadata": {},
   "outputs": [],
   "source": [
    "train_df[numerical_col].isna().sum()"
   ]
  },
  {
   "cell_type": "code",
   "execution_count": null,
   "id": "78b9bb03-6a39-4ebf-b1b9-7c015ce88bc7",
   "metadata": {},
   "outputs": [],
   "source": [
    "train_df.shape"
   ]
  },
  {
   "cell_type": "code",
   "execution_count": null,
   "id": "187e8f48-fe2c-4954-9ec1-7b5cf629f9a1",
   "metadata": {},
   "outputs": [],
   "source": [
    "train_df.isna().sum()"
   ]
  },
  {
   "cell_type": "code",
   "execution_count": null,
   "id": "00e2efed-660f-4448-85dd-ddeafc79cc8b",
   "metadata": {},
   "outputs": [],
   "source": [
    "# sklearn\n",
    "!pip install scikit-learn\n",
    "from sklearn.preprocessing import MinMaxScaler"
   ]
  },
  {
   "cell_type": "code",
   "execution_count": null,
   "id": "661f9a20-68fd-4ec7-8e85-fa962c213cf1",
   "metadata": {},
   "outputs": [],
   "source": [
    "scaler = MinMaxScaler()"
   ]
  },
  {
   "cell_type": "code",
   "execution_count": null,
   "id": "aaad27df-5539-45f7-9344-e237e88dfa8c",
   "metadata": {},
   "outputs": [],
   "source": [
    "data = scaler.fit_transform(train_df[numerical_col[: -1]])"
   ]
  },
  {
   "cell_type": "code",
   "execution_count": null,
   "id": "aec289a0-5255-4328-8011-f67fa3459ca9",
   "metadata": {},
   "outputs": [],
   "source": [
    "data"
   ]
  },
  {
   "cell_type": "code",
   "execution_count": null,
   "id": "1a3bc0bb-8313-47fb-8a63-2f7cdab8f158",
   "metadata": {},
   "outputs": [],
   "source": [
    "data = pd.DataFrame(data,columns=numerical_col[:-1])"
   ]
  },
  {
   "cell_type": "code",
   "execution_count": null,
   "id": "9b9c6b25-c85d-4851-98c0-576d753069c9",
   "metadata": {},
   "outputs": [],
   "source": [
    "data.head()"
   ]
  },
  {
   "cell_type": "code",
   "execution_count": null,
   "id": "5f744cf0-95e9-4ba4-955d-ebe669d247c4",
   "metadata": {},
   "outputs": [],
   "source": [
    "data.shape , train_df.shape"
   ]
  },
  {
   "cell_type": "code",
   "execution_count": null,
   "id": "58fb431e-ffe1-415d-95ae-ae3d2d28eb0f",
   "metadata": {},
   "outputs": [],
   "source": [
    "train_df.drop(numerical_col[:-1], axis=1,inplace=True)"
   ]
  },
  {
   "cell_type": "code",
   "execution_count": null,
   "id": "c0f6b33d-74fb-481a-bf2b-0e814022fac6",
   "metadata": {},
   "outputs": [],
   "source": [
    "train_df.head()"
   ]
  },
  {
   "cell_type": "code",
   "execution_count": null,
   "id": "81eedc5a-fcff-40e2-81bc-18ab99ec7321",
   "metadata": {},
   "outputs": [],
   "source": [
    "train_df = pd.concat([train_df,data], axis=1)"
   ]
  },
  {
   "cell_type": "code",
   "execution_count": null,
   "id": "5c9bf78f-2047-43f5-a464-7eedff16542b",
   "metadata": {},
   "outputs": [],
   "source": [
    "train_df.head()"
   ]
  },
  {
   "cell_type": "code",
   "execution_count": null,
   "id": "b3d84cc8-2f24-4556-8e75-8ce4114037d4",
   "metadata": {},
   "outputs": [],
   "source": [
    "train_df[numerical_col]"
   ]
  },
  {
   "cell_type": "markdown",
   "id": "b666e476-307f-4624-9e00-64c105502693",
   "metadata": {},
   "source": [
    "## Categorial Data"
   ]
  },
  {
   "cell_type": "code",
   "execution_count": null,
   "id": "991b007f-cf44-4826-8bca-549c6228b60b",
   "metadata": {},
   "outputs": [],
   "source": [
    "# data_path = './data/smartwatches.csv'\n",
    "# df = pd.read_csv(data_path)\n",
    "# df.drop_duplicates(inplace=True)"
   ]
  },
  {
   "cell_type": "code",
   "execution_count": null,
   "id": "efc3e27a-4354-40f7-ae77-9251e7f8ecbc",
   "metadata": {},
   "outputs": [],
   "source": [
    "# train_df = df.copy()"
   ]
  },
  {
   "cell_type": "code",
   "execution_count": null,
   "id": "02f70bb8-13e0-4119-bcfb-22de41b6a779",
   "metadata": {},
   "outputs": [],
   "source": [
    "# df.shape , train_df.shape"
   ]
  },
  {
   "cell_type": "code",
   "execution_count": null,
   "id": "b6190996-ad8b-4568-a23a-fbe210161924",
   "metadata": {},
   "outputs": [],
   "source": [
    "train_df.shape"
   ]
  },
  {
   "cell_type": "code",
   "execution_count": null,
   "id": "d8ce19f8-4aae-4de3-971d-baa06abff6e0",
   "metadata": {},
   "outputs": [],
   "source": [
    "categorical_col = [feature for feature in train_df.columns if train_df[feature].dtype == 'object' ]"
   ]
  },
  {
   "cell_type": "code",
   "execution_count": null,
   "id": "96171579-0443-4d4d-8b83-1664ea18344a",
   "metadata": {},
   "outputs": [],
   "source": [
    "categorical_col"
   ]
  },
  {
   "cell_type": "code",
   "execution_count": null,
   "id": "1c4ebd22-7e76-404a-bffb-220719d259ee",
   "metadata": {},
   "outputs": [],
   "source": [
    "train_df [categorical_col].head()\n"
   ]
  },
  {
   "cell_type": "code",
   "execution_count": null,
   "id": "cd992eb3-8f61-4af6-a37e-73c2b5878270",
   "metadata": {},
   "outputs": [],
   "source": [
    "train_df['Bluetooth'].value_counts()\n"
   ]
  },
  {
   "cell_type": "code",
   "execution_count": null,
   "id": "bca612cf-d195-4355-ac2f-f56ec8ff5385",
   "metadata": {},
   "outputs": [],
   "source": [
    "categorical_col.remove('Bluetooth')\n"
   ]
  },
  {
   "cell_type": "code",
   "execution_count": null,
   "id": "d8443a79-411e-45d0-a570-ff0ff786b214",
   "metadata": {},
   "outputs": [],
   "source": [
    "from scipy.stats import f_oneway\n"
   ]
  },
  {
   "cell_type": "code",
   "execution_count": null,
   "id": "2b1690da-8c8a-4d58-b6ab-4e95d820ce72",
   "metadata": {},
   "outputs": [],
   "source": [
    "\n",
    "for col in categorical_col:\n",
    "    CategoryGroupLists = train_df.groupby(col)['Discount Price'].apply(list)\n",
    "    AnovaResults = f_oneway(*CategoryGroupLists)\n",
    "    print(col, ': ', 'P-Value for anova is : ', AnovaResults[1])\n"
   ]
  },
  {
   "cell_type": "code",
   "execution_count": null,
   "id": "375ec9c2-29ab-4f8d-b7f9-7fb6665ef7f8",
   "metadata": {},
   "outputs": [],
   "source": [
    "imp_col = ['Brand', 'Model Name', 'Dial Shape', 'Strap Material']"
   ]
  },
  {
   "cell_type": "code",
   "execution_count": null,
   "id": "fa4041bd-74fc-4efb-8eca-0026ea9bd1e9",
   "metadata": {},
   "outputs": [],
   "source": [
    "train_df[imp_col].head()\n"
   ]
  },
  {
   "cell_type": "code",
   "execution_count": null,
   "id": "9e0f8912-7be7-4ee3-91f4-962a2f1b4625",
   "metadata": {},
   "outputs": [],
   "source": [
    "train_df[imp_col].isna().sum()\n"
   ]
  },
  {
   "cell_type": "code",
   "execution_count": null,
   "id": "9e2af0a8-7f44-49d6-9ad2-8eb231a2f7ea",
   "metadata": {},
   "outputs": [],
   "source": [
    "for col in imp_col[1:]:\n",
    "    train_df[col].fillna('other', inplace=True)"
   ]
  },
  {
   "cell_type": "code",
   "execution_count": null,
   "id": "56dc3e7c-1295-4464-b229-6c4c25aaa7b6",
   "metadata": {},
   "outputs": [],
   "source": [
    "brand = pd.get_dummies(train_df['Brand'], drop_first=True)\n"
   ]
  },
  {
   "cell_type": "code",
   "execution_count": null,
   "id": "026bbf3b-1f21-4826-bcd1-0e80fed3f44e",
   "metadata": {},
   "outputs": [],
   "source": [
    "model_name  = pd.get_dummies(train_df['Model Name']).drop(['other'], axis=1)\n",
    "dial_shape = pd.get_dummies(train_df['Dial Shape']).drop(['other'], axis=1)\n",
    "strap_material = pd.get_dummies(train_df['Strap Material']).drop(['other'], axis=1)"
   ]
  },
  {
   "cell_type": "code",
   "execution_count": null,
   "id": "7bc4b15f-11e2-4e7e-94fb-25122c814c62",
   "metadata": {},
   "outputs": [],
   "source": [
    "imp_df = pd.concat([brand, model_name, dial_shape, strap_material], axis=1)\n"
   ]
  },
  {
   "cell_type": "code",
   "execution_count": null,
   "id": "70330d7e-df6f-4a47-8a05-ff95ebb911a4",
   "metadata": {},
   "outputs": [],
   "source": [
    "imp_df.head()\n"
   ]
  },
  {
   "cell_type": "code",
   "execution_count": null,
   "id": "c5b40b1b-e814-42b6-a19a-51ea084c58a8",
   "metadata": {},
   "outputs": [],
   "source": [
    "train_df[numerical_col].isna().sum()\n"
   ]
  },
  {
   "cell_type": "code",
   "execution_count": null,
   "id": "435273a1-3471-4a44-960b-8bf7d31de7aa",
   "metadata": {},
   "outputs": [],
   "source": [
    "new_df = pd.concat([train_df[numerical_col], imp_df], axis=1)\n"
   ]
  },
  {
   "cell_type": "code",
   "execution_count": null,
   "id": "c9d3d149-c47a-4a4c-b1b8-cf54362eeef5",
   "metadata": {},
   "outputs": [],
   "source": [
    "new_df.head()\n"
   ]
  },
  {
   "cell_type": "code",
   "execution_count": null,
   "id": "474f87af-a52c-469d-b313-be613b54bd94",
   "metadata": {},
   "outputs": [],
   "source": [
    "new_df.isna().sum()\n"
   ]
  },
  {
   "cell_type": "code",
   "execution_count": null,
   "id": "71125f3d-ff6c-4e6f-a350-a1a22aa2cbe2",
   "metadata": {},
   "outputs": [],
   "source": [
    "new_df.to_csv('./data/clean.csv', index=False)"
   ]
  },
  {
   "cell_type": "markdown",
   "id": "431165b3-fce7-4c60-8997-b8dc3ebb7d4b",
   "metadata": {},
   "source": [
    "# Model Building\n",
    "\n",
    "Model building is the process of training a machine learning model on the training data and evaluating its performance on the testing data. \n",
    "\n",
    "\n"
   ]
  },
  {
   "cell_type": "code",
   "execution_count": null,
   "id": "04993d6b-6278-43a3-870a-9b91deedb7b8",
   "metadata": {},
   "outputs": [],
   "source": [
    "df.head()"
   ]
  },
  {
   "cell_type": "code",
   "execution_count": null,
   "id": "c6faa0e9-cda2-4f35-9f3b-ff187b373bac",
   "metadata": {},
   "outputs": [],
   "source": [
    "from sklearn.model_selection import train_test_split"
   ]
  },
  {
   "cell_type": "code",
   "execution_count": null,
   "id": "0289cc89-c068-45a1-a510-18d4699bf549",
   "metadata": {},
   "outputs": [],
   "source": [
    "X = df.drop('Discount Percentage', axis=1)\n",
    "y = df ['Discount Percentage']"
   ]
  },
  {
   "cell_type": "code",
   "execution_count": null,
   "id": "65150976-13f1-4f66-ac77-7e33c900c846",
   "metadata": {},
   "outputs": [],
   "source": [
    "X_train , X_test , y_train , y_test = train_test_split(X,y , test_size=0.2 , random_state = 42)"
   ]
  },
  {
   "cell_type": "code",
   "execution_count": null,
   "id": "61be8cc1-858a-4807-a513-eab096ada23d",
   "metadata": {},
   "outputs": [],
   "source": [
    "from sklearn.linear_model import LinearRegression\n",
    "from sklearn.metrics import r2_score\n",
    "\n",
    "lr_model = LinearRegression()\n",
    "lr_model.fit(X_train , y_train)\n",
    "y_pred = lr_model.predict(X_test)\n",
    "\n",
    "res = r2_score(y_test , y_pred)\n",
    "print(res)\n"
   ]
  },
  {
   "cell_type": "code",
   "execution_count": null,
   "id": "769d025b-4880-4017-abd1-43e45109d362",
   "metadata": {},
   "outputs": [],
   "source": [
    "from sklearn.tree import DecisionTreeRegressor\n",
    "dt_model = DecisionTreeRegressor()\n",
    "dt_model.fit(X_train , y_train)\n",
    "y_pred = dt_model.predict(X_test)\n",
    "res = r2_score(y_test , y_pred)\n",
    "print(res)"
   ]
  },
  {
   "cell_type": "code",
   "execution_count": null,
   "id": "dac18fe8-8687-40f1-859d-06ea9c5cb477",
   "metadata": {},
   "outputs": [],
   "source": [
    "from sklearn.ensemble import RandomForestRegressor\n",
    "\n",
    "rf_model = RandomForestRegressor()\n",
    "rf_model.fit(X_train , y_train)\n",
    "y_pred = rf_model.predict(X_test)\n",
    "res = r2_score(y_test , y_pred)\n",
    "print(rest)"
   ]
  },
  {
   "cell_type": "code",
   "execution_count": null,
   "id": "7cf6c94d-947d-47fb-a2fb-2539464f42de",
   "metadata": {},
   "outputs": [],
   "source": [
    "import xgboost as xgb\n",
    "\n",
    "model = xgb.XGBRegressor()\n",
    "model.fit(X_train , y_train)\n",
    "y_pred = model.predict(X_test)\n",
    "res = r2_score(y_test , y_pred)\n",
    "print(res)\n"
   ]
  },
  {
   "cell_type": "code",
   "execution_count": null,
   "id": "60afd442-69ad-44c3-ae77-79b1ee2cd994",
   "metadata": {},
   "outputs": [],
   "source": [
    "# cross validation"
   ]
  },
  {
   "cell_type": "code",
   "execution_count": null,
   "id": "f0eb0bb1-17ed-4fcb-8034-f977c71d4bb1",
   "metadata": {},
   "outputs": [],
   "source": [
    "from sklearn.model_selection import cross_val"
   ]
  }
 ],
 "metadata": {
  "kernelspec": {
   "display_name": "Python 3 (ipykernel)",
   "language": "python",
   "name": "python3"
  },
  "language_info": {
   "codemirror_mode": {
    "name": "ipython",
    "version": 3
   },
   "file_extension": ".py",
   "mimetype": "text/x-python",
   "name": "python",
   "nbconvert_exporter": "python",
   "pygments_lexer": "ipython3",
   "version": "3.11.7"
  }
 },
 "nbformat": 4,
 "nbformat_minor": 5
}
